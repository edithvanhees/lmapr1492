{
 "cells": [
  {
   "cell_type": "code",
   "execution_count": 18,
   "id": "4e4d6267",
   "metadata": {},
   "outputs": [
    {
     "name": "stdout",
     "output_type": "stream",
     "text": [
      "Vecteurs de base du réseau direct :\n",
      "a = [0.       3.523613 3.523613]\n",
      "b = [3.523613 0.       3.523613]\n",
      "c = [3.523613 3.523613 0.      ]\n",
      "\n",
      "Vecteurs de base du réseau réciproque :\n",
      "a* = [-0.89158277  0.89158277  0.89158277]\n",
      "b* = [ 0.89158277 -0.89158277  0.89158277]\n",
      "c* = [ 0.89158277  0.89158277 -0.89158277]\n",
      "\n",
      "Type de maille : cubic\n",
      "Système cristallin : cubic\n",
      "Groupe ponctuel : m-3m\n"
     ]
    }
   ],
   "source": [
    "from pymatgen.ext.matproj import MPRester\n",
    "from pymatgen.core import Structure\n",
    "from pymatgen.symmetry.analyzer import SpacegroupAnalyzer\n",
    "\n",
    "with MPRester(\"7QuxsitdhRpT0oyz\") as m:\n",
    "\n",
    "    # Structures for material id\n",
    "    structure = m.get_structure_by_material_id(\"mp-23209\")    \n",
    "    \n",
    "    # Vecteurs de bases du réseau direct \n",
    "    vecteurs_réseau_direct = structure.lattice\n",
    "    vecteurs_rd_matrix = vecteurs_réseau_direct.matrix\n",
    "          \n",
    "    # Vecteurs de bases du réseau réciproque\n",
    "    vecteurs_réseau_réciproque = vecteurs_réseau_direct.reciprocal_lattice    \n",
    "    vecteurs_rr_matrix = vecteurs_réseau_réciproque.matrix\n",
    "    \n",
    "    # Type de maille\n",
    "    maille = SpacegroupAnalyzer(structure).get_lattice_type()\n",
    "      \n",
    "    # Système cristallin\n",
    "    système_cristallin = SpacegroupAnalyzer(structure).get_crystal_system()\n",
    "    \n",
    "    # Groupe ponctuel\n",
    "    groupe_ponctuel = SpacegroupAnalyzer(structure).get_point_group_symbol()\n",
    "    \n",
    "    print(\"Vecteurs de base du réseau direct :\")\n",
    "    print(\"a = \" + str(vecteurs_rd_matrix[0]))\n",
    "    print(\"b = \" + str(vecteurs_rd_matrix[1]))\n",
    "    print(\"c = \" + str(vecteurs_rd_matrix[2]) + \"\\n\")\n",
    "    print(\"Vecteurs de base du réseau réciproque :\")\n",
    "    print(\"a* = \" + str(vecteurs_rr_matrix[0]))\n",
    "    print(\"b* = \" + str(vecteurs_rr_matrix[1]))\n",
    "    print(\"c* = \" + str(vecteurs_rr_matrix[2]) + \"\\n\")\n",
    "    print(\"Type de maille :\", maille)   \n",
    "    print(\"Système cristallin :\", système_cristallin)\n",
    "    print(\"Groupe ponctuel :\", groupe_ponctuel)"
   ]
  },
  {
   "cell_type": "code",
   "execution_count": null,
   "id": "a62534b1",
   "metadata": {},
   "outputs": [],
   "source": []
  }
 ],
 "metadata": {
  "kernelspec": {
   "display_name": "Python 3 (ipykernel)",
   "language": "python",
   "name": "python3"
  },
  "language_info": {
   "codemirror_mode": {
    "name": "ipython",
    "version": 3
   },
   "file_extension": ".py",
   "mimetype": "text/x-python",
   "name": "python",
   "nbconvert_exporter": "python",
   "pygments_lexer": "ipython3",
   "version": "3.8.5"
  }
 },
 "nbformat": 4,
 "nbformat_minor": 5
}
