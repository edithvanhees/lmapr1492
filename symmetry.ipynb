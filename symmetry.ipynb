{
 "cells": [
  {
   "cell_type": "code",
   "execution_count": 63,
   "id": "162464f7",
   "metadata": {
    "scrolled": true
   },
   "outputs": [
    {
     "name": "stdout",
     "output_type": "stream",
     "text": [
      "Symétrie pour Sr\n",
      "------------------------------------------------------------------------\n",
      "Matrice de symétrie et vecteur de translation: \n",
      "  Rot:\n",
      "[[1. 0. 0.]\n",
      " [0. 0. 1.]\n",
      " [0. 1. 0.]]\n",
      "tau\n",
      "[0. 0. 0.]\n",
      "Position initiale:  [0.0, 0.0, 0.0]\n",
      "Position après réflexion:  [0. 0. 0.] \n",
      "\n",
      "Symétrie pour Cl (1)\n",
      "------------------------------------------------------------------------\n",
      "Matrice de symétrie et vecteur de translation: \n",
      "  Rot:\n",
      "[[ 0.  0.  1.]\n",
      " [-1. -1. -1.]\n",
      " [ 1.  0.  0.]]\n",
      "tau\n",
      "[0. 0. 0.]\n",
      "Position initiale:  [0.75, 0.75, 0.75]\n",
      "Position après symétrie d'inversion C2:  [ 0.75 -2.25  0.75] \n",
      "\n",
      "Symétrie pour Cl (2)\n",
      "------------------------------------------------------------------------\n",
      "Matrice de symétrie et vecteur de translation: \n",
      "  Rot:\n",
      "[[ 1.  0.  0.]\n",
      " [ 0.  0.  1.]\n",
      " [-1. -1. -1.]]\n",
      "tau\n",
      "[0. 0. 0.]\n",
      "Position initiale:  [0.25, 0.25, 0.25]\n",
      "Position après rotation d'axe C3:  [ 0.25  0.25 -0.75] \n",
      "\n"
     ]
    }
   ],
   "source": [
    "from pymatgen.ext.matproj import MPRester\n",
    "from pymatgen.core import Structure, Lattice\n",
    "from pymatgen.symmetry.analyzer import SpacegroupAnalyzer\n",
    "from jupyter_jsmol.pymatgen import quick_view\n",
    "from IPython.display import Image\n",
    "\n",
    "\n",
    "with MPRester(\"7QuxsitdhRpT0oyz\") as m:\n",
    "\n",
    "    structure = m.get_structure_by_material_id(\"mp-23209\")    \n",
    "\n",
    "structure_as_dict = structure.as_dict()\n",
    "SA_structure = SpacegroupAnalyzer(structure)\n",
    "\n",
    "view = quick_view(structure)\n",
    "display(view)\n",
    "\n",
    "# Coordonnées des atomes\n",
    "\n",
    "Sr = structure_as_dict.get('sites')[0]['abc']\n",
    "Cl1 = structure_as_dict.get('sites')[1]['abc']\n",
    "Cl2 = structure_as_dict.get('sites')[2]['abc']\n",
    "\n",
    "# Symétries\n",
    "\n",
    "Sym_Sr = SA_structure.get_symmetry_operations()[43]\n",
    "Sym_Cl1 = SA_structure.get_symmetry_operations()[12]\n",
    "Sym_Cl2 = SA_structure.get_symmetry_operations()[28]\n",
    "\n",
    "print(\"Symétrie pour Sr\")\n",
    "print(\"------------------------------------------------------------------------\")\n",
    "print(\"Matrice de symétrie et vecteur de translation: \\n \", Sym_Sr)\n",
    "print(\"Position initiale: \", Sr)\n",
    "print(\"Position après réflexion: \", Sym_Sr.operate(Sr), \"\\n\")\n",
    "\n",
    "\n",
    "print(\"Symétrie pour Cl (1)\")\n",
    "print(\"------------------------------------------------------------------------\")\n",
    "print(\"Matrice de symétrie et vecteur de translation: \\n \", Sym_Cl1)\n",
    "print(\"Position initiale: \", Cl1)\n",
    "print(\"Position après symétrie d'inversion C2: \", Sym_Cl1.operate(Cl1),\"\\n\")\n",
    "\n",
    "print(\"Symétrie pour Cl (2)\")\n",
    "print(\"------------------------------------------------------------------------\")\n",
    "print(\"Matrice de symétrie et vecteur de translation: \\n \", Sym_Cl2)\n",
    "print(\"Position initiale: \", Cl2)\n",
    "print(\"Position après rotation d'axe C3: \", Sym_Cl2.operate(Cl2), \"\\n\")\n",
    "\n"
   ]
  },
  {
   "cell_type": "code",
   "execution_count": null,
   "id": "6df07b9c",
   "metadata": {},
   "outputs": [],
   "source": []
  }
 ],
 "metadata": {
  "kernelspec": {
   "display_name": "Python 3 (ipykernel)",
   "language": "python",
   "name": "python3"
  },
  "language_info": {
   "codemirror_mode": {
    "name": "ipython",
    "version": 3
   },
   "file_extension": ".py",
   "mimetype": "text/x-python",
   "name": "python",
   "nbconvert_exporter": "python",
   "pygments_lexer": "ipython3",
   "version": "3.8.5"
  }
 },
 "nbformat": 4,
 "nbformat_minor": 5
}
