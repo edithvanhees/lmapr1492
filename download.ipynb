{
 "cells": [
  {
   "cell_type": "code",
   "execution_count": 8,
   "id": "32f617c5",
   "metadata": {},
   "outputs": [
    {
     "name": "stdout",
     "output_type": "stream",
     "text": [
      "Full Formula (Sr1 Cl2)\n",
      "Reduced Formula: SrCl2\n",
      "abc   :   4.983141   4.983141   4.983141\n",
      "angles:  60.000000  60.000000  60.000000\n",
      "Sites (3)\n",
      "  #  SP       a     b     c    magmom\n",
      "---  ----  ----  ----  ----  --------\n",
      "  0  Sr    0     0     0           -0\n",
      "  1  Cl    0.75  0.75  0.75         0\n",
      "  2  Cl    0.25  0.25  0.25         0\n",
      "Full Formula (Sr4 Cl8)\n",
      "Reduced Formula: SrCl2\n",
      "abc   :   7.047226   7.047226   7.047226\n",
      "angles:  90.000000  90.000000  90.000000\n",
      "Sites (12)\n",
      "  #  SP       a     b     c\n",
      "---  ----  ----  ----  ----\n",
      "  0  Sr    0     0     0\n",
      "  1  Sr    0.5   0.5   0\n",
      "  2  Sr    0.5   0     0.5\n",
      "  3  Sr    0     0.5   0.5\n",
      "  4  Cl    0.25  0.25  0.25\n",
      "  5  Cl    0.75  0.75  0.75\n",
      "  6  Cl    0.75  0.25  0.25\n",
      "  7  Cl    0.25  0.75  0.75\n",
      "  8  Cl    0.75  0.75  0.25\n",
      "  9  Cl    0.25  0.25  0.75\n",
      " 10  Cl    0.25  0.75  0.25\n",
      " 11  Cl    0.75  0.25  0.75\n"
     ]
    }
   ],
   "source": [
    "from pymatgen.ext.matproj import MPRester\n",
    "from pymatgen.core import Structure\n",
    "\n",
    "with MPRester(\"7QuxsitdhRpT0oyz\") as m:\n",
    "\n",
    "    # Structure for material id\n",
    "    structure1 = m.get_structure_by_material_id(\"mp-23209\")\n",
    "\n",
    "    # Dos for material id\n",
    "    dos = m.get_dos_by_material_id(\"mp-23209\")\n",
    "\n",
    "    # Bandstructure for material id\n",
    "    bandstructure = m.get_bandstructure_by_material_id(\"mp-23209\")\n",
    "    \n",
    "    # To get a list of data for all entries having formula SrCl2\n",
    "    data = m.get_data(\"SrCl2\")\n",
    "        \n",
    "    structure2 = Structure.from_file(\"SrCl2_mp-23209_symmetrized.cif\")"
   ]
  },
  {
   "cell_type": "code",
   "execution_count": null,
   "id": "d10daf3b",
   "metadata": {},
   "outputs": [],
   "source": []
  }
 ],
 "metadata": {
  "kernelspec": {
   "display_name": "lepl1109",
   "language": "python",
   "name": "lepl1109"
  },
  "language_info": {
   "codemirror_mode": {
    "name": "ipython",
    "version": 3
   },
   "file_extension": ".py",
   "mimetype": "text/x-python",
   "name": "python",
   "nbconvert_exporter": "python",
   "pygments_lexer": "ipython3",
   "version": "3.8.5"
  }
 },
 "nbformat": 4,
 "nbformat_minor": 5
}
